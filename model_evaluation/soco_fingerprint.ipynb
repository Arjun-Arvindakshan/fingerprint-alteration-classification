{
  "nbformat": 4,
  "nbformat_minor": 0,
  "metadata": {
    "kernelspec": {
      "name": "python3",
      "display_name": "Python 3"
    },
    "language_info": {
      "codemirror_mode": {
        "name": "ipython",
        "version": 3
      },
      "file_extension": ".py",
      "mimetype": "text/x-python",
      "name": "python",
      "nbconvert_exporter": "python",
      "pygments_lexer": "ipython3",
      "version": "3.6.7"
    },
    "colab": {
      "name": "soco_fingerprint.ipynb",
      "version": "0.3.2",
      "provenance": []
    },
    "accelerator": "GPU"
  },
  "cells": [
    {
      "cell_type": "code",
      "metadata": {
        "id": "vWhG20ccnDN4",
        "colab_type": "code",
        "outputId": "d7feebb8-e30a-4e3e-be13-c6f98bfe46e3",
        "colab": {
          "base_uri": "https://localhost:8080/",
          "height": 34
        }
      },
      "source": [
        "from google.colab import drive\n",
        "drive.mount('/content/drive')"
      ],
      "execution_count": 1,
      "outputs": [
        {
          "output_type": "stream",
          "text": [
            "Drive already mounted at /content/drive; to attempt to forcibly remount, call drive.mount(\"/content/drive\", force_remount=True).\n"
          ],
          "name": "stdout"
        }
      ]
    },
    {
      "cell_type": "code",
      "metadata": {
        "id": "rImctdqIm-6K",
        "colab_type": "code",
        "colab": {}
      },
      "source": [
        "from imutils import paths\n",
        "import os"
      ],
      "execution_count": 0,
      "outputs": []
    },
    {
      "cell_type": "code",
      "metadata": {
        "id": "TIBpW9tXm-6R",
        "colab_type": "code",
        "colab": {}
      },
      "source": [
        "from PIL import Image"
      ],
      "execution_count": 0,
      "outputs": []
    },
    {
      "cell_type": "code",
      "metadata": {
        "id": "GvHWFXEPm-6V",
        "colab_type": "code",
        "colab": {}
      },
      "source": [
        "import numpy as np\n",
        "np.random.seed(42)"
      ],
      "execution_count": 0,
      "outputs": []
    },
    {
      "cell_type": "code",
      "metadata": {
        "id": "OHNPZ8k0m-6Z",
        "colab_type": "code",
        "colab": {}
      },
      "source": [
        "import matplotlib.pyplot as plt\n",
        "%matplotlib inline"
      ],
      "execution_count": 0,
      "outputs": []
    },
    {
      "cell_type": "code",
      "metadata": {
        "id": "sR2x8Fj8m-6d",
        "colab_type": "code",
        "colab": {}
      },
      "source": [
        "import tensorflow as tf\n",
        "from tensorflow import keras"
      ],
      "execution_count": 0,
      "outputs": []
    },
    {
      "cell_type": "code",
      "metadata": {
        "id": "p-tPXfJKm-6h",
        "colab_type": "code",
        "colab": {}
      },
      "source": [
        "tf.set_random_seed(42)"
      ],
      "execution_count": 0,
      "outputs": []
    },
    {
      "cell_type": "code",
      "metadata": {
        "id": "SW_tFxpDm-6m",
        "colab_type": "code",
        "colab": {}
      },
      "source": [
        "imgfiles = paths.list_images(\"/content/drive/My Drive/fingerprint_alteration/image_files/\")\n",
        "#print(imgfiles)"
      ],
      "execution_count": 0,
      "outputs": []
    },
    {
      "cell_type": "code",
      "metadata": {
        "id": "VUg18TXHm-6q",
        "colab_type": "code",
        "colab": {}
      },
      "source": [
        "import glob"
      ],
      "execution_count": 0,
      "outputs": []
    },
    {
      "cell_type": "code",
      "metadata": {
        "id": "X8ROpNJSm-6u",
        "colab_type": "code",
        "colab": {}
      },
      "source": [
        "imgfiles1 = glob.glob(\"/content/drive/My Drive/fingerprint_alteration/image_files/*.PGM\")\n",
        "#print(imgfiles1)"
      ],
      "execution_count": 0,
      "outputs": []
    },
    {
      "cell_type": "code",
      "metadata": {
        "id": "L3kg3MZlm-6y",
        "colab_type": "code",
        "colab": {}
      },
      "source": [
        "X = []\n",
        "y = []"
      ],
      "execution_count": 0,
      "outputs": []
    },
    {
      "cell_type": "code",
      "metadata": {
        "id": "RYxZb-aFm-64",
        "colab_type": "code",
        "colab": {}
      },
      "source": [
        "for fname in imgfiles1:\n",
        "    X_i = Image.open(fname)\n",
        "    #print(fname)\n",
        "    X_i = np.array(X_i.resize((64,64)))/ 255.0\n",
        "    elist = fname.split(os.path.sep)\n",
        "    #print(elist[:10])\n",
        "    X.append(X_i)\n",
        "    label = elist[6].split(\"_\")\n",
        "    #print(label)\n",
        "    label2 = label[6].split(\".\")\n",
        "    #print(label2)\n",
        "    y.append(label2[0])\n",
        "    #print(y)\n",
        "    "
      ],
      "execution_count": 0,
      "outputs": []
    },
    {
      "cell_type": "code",
      "metadata": {
        "id": "wTFPMs68m-69",
        "colab_type": "code",
        "colab": {
          "base_uri": "https://localhost:8080/",
          "height": 34
        },
        "outputId": "e47ab5cf-beee-4500-eba8-929b421a1cf4"
      },
      "source": [
        "print(set(y))"
      ],
      "execution_count": 13,
      "outputs": [
        {
          "output_type": "stream",
          "text": [
            "{'Obl', 'CR', 'Zcut', 'REAL'}\n"
          ],
          "name": "stdout"
        }
      ]
    },
    {
      "cell_type": "code",
      "metadata": {
        "id": "kizelTCkm-7D",
        "colab_type": "code",
        "colab": {}
      },
      "source": [
        "from sklearn.preprocessing import LabelEncoder"
      ],
      "execution_count": 0,
      "outputs": []
    },
    {
      "cell_type": "code",
      "metadata": {
        "id": "kz60FG04m-7H",
        "colab_type": "code",
        "colab": {}
      },
      "source": [
        "lencoder = LabelEncoder()\n",
        "y = lencoder.fit_transform(y)"
      ],
      "execution_count": 0,
      "outputs": []
    },
    {
      "cell_type": "code",
      "metadata": {
        "id": "BNq2Xvl4m-7L",
        "colab_type": "code",
        "colab": {
          "base_uri": "https://localhost:8080/",
          "height": 34
        },
        "outputId": "08ffd519-2623-4564-a1cf-ba013e198034"
      },
      "source": [
        "print(set(y))"
      ],
      "execution_count": 16,
      "outputs": [
        {
          "output_type": "stream",
          "text": [
            "{0, 1, 2, 3}\n"
          ],
          "name": "stdout"
        }
      ]
    },
    {
      "cell_type": "code",
      "metadata": {
        "id": "3yYLLy4Dm-7P",
        "colab_type": "code",
        "colab": {
          "base_uri": "https://localhost:8080/",
          "height": 34
        },
        "outputId": "eb4fadc1-3bb8-46ff-e8c8-568d3c0d69ee"
      },
      "source": [
        "print(lencoder.classes_)"
      ],
      "execution_count": 17,
      "outputs": [
        {
          "output_type": "stream",
          "text": [
            "['CR' 'Obl' 'REAL' 'Zcut']\n"
          ],
          "name": "stdout"
        }
      ]
    },
    {
      "cell_type": "code",
      "metadata": {
        "id": "U5YQaf94m-7T",
        "colab_type": "code",
        "colab": {
          "base_uri": "https://localhost:8080/",
          "height": 34
        },
        "outputId": "a219147c-b90d-4e48-b2fd-3fddd00a08a6"
      },
      "source": [
        "print(lencoder.inverse_transform([0]))"
      ],
      "execution_count": 18,
      "outputs": [
        {
          "output_type": "stream",
          "text": [
            "['CR']\n"
          ],
          "name": "stdout"
        }
      ]
    },
    {
      "cell_type": "code",
      "metadata": {
        "id": "tVlv3l40m-7X",
        "colab_type": "code",
        "colab": {
          "base_uri": "https://localhost:8080/",
          "height": 51
        },
        "outputId": "04f13937-fa81-4a32-da4c-3c4726ca6f6e"
      },
      "source": [
        "X = np.array(X)\n",
        "y = np.array(y)\n",
        "print(len(X))\n",
        "print(len(y))"
      ],
      "execution_count": 19,
      "outputs": [
        {
          "output_type": "stream",
          "text": [
            "3976\n",
            "3976\n"
          ],
          "name": "stdout"
        }
      ]
    },
    {
      "cell_type": "code",
      "metadata": {
        "id": "Z7_YqcYrm-7e",
        "colab_type": "code",
        "colab": {}
      },
      "source": [
        "from sklearn.model_selection import train_test_split"
      ],
      "execution_count": 0,
      "outputs": []
    },
    {
      "cell_type": "code",
      "metadata": {
        "id": "beR0U1lum-7h",
        "colab_type": "code",
        "colab": {}
      },
      "source": [
        "X_train,X_test,y_train,y_test = train_test_split(X,y,test_size = 0.2,stratify = y,random_state = 42)"
      ],
      "execution_count": 0,
      "outputs": []
    },
    {
      "cell_type": "code",
      "metadata": {
        "id": "jDAnDgd8m-7o",
        "colab_type": "code",
        "colab": {
          "base_uri": "https://localhost:8080/",
          "height": 34
        },
        "outputId": "ec8d5165-e9fa-42f4-8de7-a54149cb6eb7"
      },
      "source": [
        "print(\"X_train_shape:{}\".format(X_train.shape))"
      ],
      "execution_count": 22,
      "outputs": [
        {
          "output_type": "stream",
          "text": [
            "X_train_shape:(3180, 64, 64)\n"
          ],
          "name": "stdout"
        }
      ]
    },
    {
      "cell_type": "code",
      "metadata": {
        "id": "ksh5hxe4m-7w",
        "colab_type": "code",
        "colab": {
          "base_uri": "https://localhost:8080/",
          "height": 34
        },
        "outputId": "9166239e-ab64-4c54-d303-2f8d2018b933"
      },
      "source": [
        "print(\"X_test_shape:{}\".format(X_test.shape))"
      ],
      "execution_count": 23,
      "outputs": [
        {
          "output_type": "stream",
          "text": [
            "X_test_shape:(796, 64, 64)\n"
          ],
          "name": "stdout"
        }
      ]
    },
    {
      "cell_type": "code",
      "metadata": {
        "id": "_kOBhDazm-73",
        "colab_type": "code",
        "colab": {}
      },
      "source": [
        "X_train = X_train[...,np.newaxis]"
      ],
      "execution_count": 0,
      "outputs": []
    },
    {
      "cell_type": "code",
      "metadata": {
        "id": "msuL_JlKm-76",
        "colab_type": "code",
        "colab": {}
      },
      "source": [
        "X_test = X_test[...,np.newaxis]"
      ],
      "execution_count": 0,
      "outputs": []
    },
    {
      "cell_type": "code",
      "metadata": {
        "id": "OEt-JAmEm-7_",
        "colab_type": "code",
        "colab": {}
      },
      "source": [
        "model_CNN = keras.models.Sequential()"
      ],
      "execution_count": 0,
      "outputs": []
    },
    {
      "cell_type": "code",
      "metadata": {
        "id": "s_YFpN3qm-8E",
        "colab_type": "code",
        "colab": {
          "base_uri": "https://localhost:8080/",
          "height": 105
        },
        "outputId": "2cc81cba-d404-4740-fc84-0828d932d83e"
      },
      "source": [
        "model_CNN.add(keras.layers.Conv2D(filters=32,kernel_size = 7,padding = 'same',activation = 'relu',input_shape = [64,64,1]))\n",
        "model_CNN.add(keras.layers.MaxPooling2D(pool_size = 2))\n",
        "model_CNN.add(keras.layers.Conv2D(filters=64,kernel_size = 5,padding = 'same',activation = 'relu'))\n",
        "model_CNN.add(keras.layers.MaxPooling2D(pool_size = 2))\n",
        "model_CNN.add(keras.layers.Conv2D(filters=64,kernel_size = 3,padding = 'same',activation = 'relu'))\n",
        "model_CNN.add(keras.layers.MaxPooling2D(pool_size = 2))"
      ],
      "execution_count": 27,
      "outputs": [
        {
          "output_type": "stream",
          "text": [
            "WARNING: Logging before flag parsing goes to stderr.\n",
            "W0817 09:05:52.750438 140430622680960 deprecation.py:506] From /usr/local/lib/python3.6/dist-packages/tensorflow/python/ops/init_ops.py:1251: calling VarianceScaling.__init__ (from tensorflow.python.ops.init_ops) with dtype is deprecated and will be removed in a future version.\n",
            "Instructions for updating:\n",
            "Call initializer instance with the dtype argument instead of passing it to the constructor\n"
          ],
          "name": "stderr"
        }
      ]
    },
    {
      "cell_type": "code",
      "metadata": {
        "id": "udolQ4ZXm-8I",
        "colab_type": "code",
        "colab": {
          "base_uri": "https://localhost:8080/",
          "height": 493
        },
        "outputId": "3fcf6a9c-7764-4e8d-f0ef-12ff7508ee7a"
      },
      "source": [
        "model_CNN.add(keras.layers.Flatten())\n",
        "model_CNN.add(keras.layers.Dense(64,activation = 'relu'))\n",
        "model_CNN.add(keras.layers.Dense(32,activation = 'relu'))\n",
        "model_CNN.add(keras.layers.Dense(4,activation = 'softmax'))\n",
        "model_CNN.summary()"
      ],
      "execution_count": 28,
      "outputs": [
        {
          "output_type": "stream",
          "text": [
            "Model: \"sequential\"\n",
            "_________________________________________________________________\n",
            "Layer (type)                 Output Shape              Param #   \n",
            "=================================================================\n",
            "conv2d (Conv2D)              (None, 64, 64, 32)        1600      \n",
            "_________________________________________________________________\n",
            "max_pooling2d (MaxPooling2D) (None, 32, 32, 32)        0         \n",
            "_________________________________________________________________\n",
            "conv2d_1 (Conv2D)            (None, 32, 32, 64)        51264     \n",
            "_________________________________________________________________\n",
            "max_pooling2d_1 (MaxPooling2 (None, 16, 16, 64)        0         \n",
            "_________________________________________________________________\n",
            "conv2d_2 (Conv2D)            (None, 16, 16, 64)        36928     \n",
            "_________________________________________________________________\n",
            "max_pooling2d_2 (MaxPooling2 (None, 8, 8, 64)          0         \n",
            "_________________________________________________________________\n",
            "flatten (Flatten)            (None, 4096)              0         \n",
            "_________________________________________________________________\n",
            "dense (Dense)                (None, 64)                262208    \n",
            "_________________________________________________________________\n",
            "dense_1 (Dense)              (None, 32)                2080      \n",
            "_________________________________________________________________\n",
            "dense_2 (Dense)              (None, 4)                 132       \n",
            "=================================================================\n",
            "Total params: 354,212\n",
            "Trainable params: 354,212\n",
            "Non-trainable params: 0\n",
            "_________________________________________________________________\n"
          ],
          "name": "stdout"
        }
      ]
    },
    {
      "cell_type": "code",
      "metadata": {
        "id": "gwvNrFhxm-8M",
        "colab_type": "code",
        "colab": {}
      },
      "source": [
        "model_CNN.compile(loss=\"sparse_categorical_crossentropy\",optimizer = 'adam',metrics = [\"accuracy\"])"
      ],
      "execution_count": 0,
      "outputs": []
    },
    {
      "cell_type": "code",
      "metadata": {
        "id": "0vxcb7ZbzU_S",
        "colab_type": "code",
        "colab": {}
      },
      "source": [
        "callbacks = [keras.callbacks.EarlyStopping(patience = 5),keras.callbacks.ModelCheckpoint(\"/content/drive/My Drive/soco_model.h5\",save_best_only = True)]"
      ],
      "execution_count": 0,
      "outputs": []
    },
    {
      "cell_type": "code",
      "metadata": {
        "id": "BecAd76qm-8P",
        "colab_type": "code",
        "colab": {
          "base_uri": "https://localhost:8080/",
          "height": 714
        },
        "outputId": "dba04031-b7e0-4439-8d45-5540c347266a"
      },
      "source": [
        "history_CNN = model_CNN.fit(X_train,y_train,epochs = 20,validation_split=0.1,callbacks = callbacks)"
      ],
      "execution_count": 31,
      "outputs": [
        {
          "output_type": "stream",
          "text": [
            "Train on 2862 samples, validate on 318 samples\n",
            "Epoch 1/20\n",
            "2862/2862 [==============================] - 3s 1ms/sample - loss: 1.3869 - acc: 0.2673 - val_loss: 1.3660 - val_acc: 0.3113\n",
            "Epoch 2/20\n",
            "2862/2862 [==============================] - 1s 266us/sample - loss: 1.3283 - acc: 0.3550 - val_loss: 1.2411 - val_acc: 0.3805\n",
            "Epoch 3/20\n",
            "2862/2862 [==============================] - 1s 264us/sample - loss: 1.2383 - acc: 0.4008 - val_loss: 1.2015 - val_acc: 0.4025\n",
            "Epoch 4/20\n",
            "2862/2862 [==============================] - 1s 264us/sample - loss: 1.1574 - acc: 0.4210 - val_loss: 1.1357 - val_acc: 0.4119\n",
            "Epoch 5/20\n",
            "2862/2862 [==============================] - 1s 265us/sample - loss: 1.0834 - acc: 0.4518 - val_loss: 1.0647 - val_acc: 0.4245\n",
            "Epoch 6/20\n",
            "2862/2862 [==============================] - 1s 272us/sample - loss: 1.0336 - acc: 0.4860 - val_loss: 1.0393 - val_acc: 0.4528\n",
            "Epoch 7/20\n",
            "2862/2862 [==============================] - 1s 265us/sample - loss: 0.9661 - acc: 0.5199 - val_loss: 0.9732 - val_acc: 0.4969\n",
            "Epoch 8/20\n",
            "2862/2862 [==============================] - 1s 265us/sample - loss: 0.9445 - acc: 0.5493 - val_loss: 0.9258 - val_acc: 0.4811\n",
            "Epoch 9/20\n",
            "2862/2862 [==============================] - 1s 269us/sample - loss: 0.8522 - acc: 0.6090 - val_loss: 0.8502 - val_acc: 0.5912\n",
            "Epoch 10/20\n",
            "2862/2862 [==============================] - 1s 268us/sample - loss: 0.7808 - acc: 0.6307 - val_loss: 0.7792 - val_acc: 0.6164\n",
            "Epoch 11/20\n",
            "2862/2862 [==============================] - 1s 263us/sample - loss: 0.7379 - acc: 0.6719 - val_loss: 0.7271 - val_acc: 0.6761\n",
            "Epoch 12/20\n",
            "2862/2862 [==============================] - 1s 249us/sample - loss: 0.6389 - acc: 0.7177 - val_loss: 0.7946 - val_acc: 0.6604\n",
            "Epoch 13/20\n",
            "2862/2862 [==============================] - 1s 269us/sample - loss: 0.6124 - acc: 0.7331 - val_loss: 0.7142 - val_acc: 0.6730\n",
            "Epoch 14/20\n",
            "2862/2862 [==============================] - 1s 267us/sample - loss: 0.5705 - acc: 0.7428 - val_loss: 0.6884 - val_acc: 0.6761\n",
            "Epoch 15/20\n",
            "2862/2862 [==============================] - 1s 261us/sample - loss: 0.5517 - acc: 0.7579 - val_loss: 0.6261 - val_acc: 0.7170\n",
            "Epoch 16/20\n",
            "2862/2862 [==============================] - 1s 245us/sample - loss: 0.4852 - acc: 0.7991 - val_loss: 0.6281 - val_acc: 0.7327\n",
            "Epoch 17/20\n",
            "2862/2862 [==============================] - 1s 270us/sample - loss: 0.4662 - acc: 0.8043 - val_loss: 0.5709 - val_acc: 0.7704\n",
            "Epoch 18/20\n",
            "2862/2862 [==============================] - 1s 245us/sample - loss: 0.4410 - acc: 0.8085 - val_loss: 0.6080 - val_acc: 0.7421\n",
            "Epoch 19/20\n",
            "2862/2862 [==============================] - 1s 245us/sample - loss: 0.3877 - acc: 0.8407 - val_loss: 0.5949 - val_acc: 0.7579\n",
            "Epoch 20/20\n",
            "2862/2862 [==============================] - 1s 244us/sample - loss: 0.3821 - acc: 0.8428 - val_loss: 0.5824 - val_acc: 0.7484\n"
          ],
          "name": "stdout"
        }
      ]
    },
    {
      "cell_type": "code",
      "metadata": {
        "id": "nrV16Nk4m-8T",
        "colab_type": "code",
        "colab": {}
      },
      "source": [
        "import pandas as pd"
      ],
      "execution_count": 0,
      "outputs": []
    },
    {
      "cell_type": "code",
      "metadata": {
        "id": "h2tstvwzm-8X",
        "colab_type": "code",
        "colab": {
          "base_uri": "https://localhost:8080/",
          "height": 295
        },
        "outputId": "de8e9111-b277-4d78-e7b4-c7878b3202ea"
      },
      "source": [
        "pd.DataFrame(history_CNN.history).plot()\n",
        "plt.grid(True)\n",
        "plt.xlabel(\"epochs\")\n",
        "plt.ylabel(\"loss/accuracy\")\n",
        "plt.title(\"training and validation plot\")\n",
        "plt.show()"
      ],
      "execution_count": 33,
      "outputs": [
        {
          "output_type": "display_data",
          "data": {
            "image/png": "[encoded data removed]",
            "text/plain": [
              "<Figure size 432x288 with 1 Axes>"
            ]
          },
          "metadata": {
            "tags": []
          }
        }
      ]
    },
    {
      "cell_type": "code",
      "metadata": {
        "id": "ACAxpSAlzfxn",
        "colab_type": "code",
        "colab": {
          "base_uri": "https://localhost:8080/",
          "height": 139
        },
        "outputId": "10621ee0-87c2-4297-ad85-a23dd1341aff"
      },
      "source": [
        "best_model = keras.models.load_model('/content/drive/My Drive/soco_model.h5')"
      ],
      "execution_count": 34,
      "outputs": [
        {
          "output_type": "stream",
          "text": [
            "W0817 09:06:11.931695 140430622680960 deprecation.py:506] From /usr/local/lib/python3.6/dist-packages/tensorflow/python/ops/init_ops.py:97: calling GlorotUniform.__init__ (from tensorflow.python.ops.init_ops) with dtype is deprecated and will be removed in a future version.\n",
            "Instructions for updating:\n",
            "Call initializer instance with the dtype argument instead of passing it to the constructor\n",
            "W0817 09:06:11.933090 140430622680960 deprecation.py:506] From /usr/local/lib/python3.6/dist-packages/tensorflow/python/ops/init_ops.py:97: calling Zeros.__init__ (from tensorflow.python.ops.init_ops) with dtype is deprecated and will be removed in a future version.\n",
            "Instructions for updating:\n",
            "Call initializer instance with the dtype argument instead of passing it to the constructor\n"
          ],
          "name": "stderr"
        }
      ]
    },
    {
      "cell_type": "code",
      "metadata": {
        "id": "mWp6_F1Em-8b",
        "colab_type": "code",
        "colab": {
          "base_uri": "https://localhost:8080/",
          "height": 34
        },
        "outputId": "7b76ae85-2981-457a-bcd2-e21a510583d6"
      },
      "source": [
        "test_loss,test_accuracy = model_CNN.evaluate(X_test,y_test)"
      ],
      "execution_count": 35,
      "outputs": [
        {
          "output_type": "stream",
          "text": [
            "796/796 [==============================] - 0s 144us/sample - loss: 0.6223 - acc: 0.7337\n"
          ],
          "name": "stdout"
        }
      ]
    },
    {
      "cell_type": "code",
      "metadata": {
        "id": "wGwcdwUom-8h",
        "colab_type": "code",
        "colab": {
          "base_uri": "https://localhost:8080/",
          "height": 34
        },
        "outputId": "8c5cf9f7-d25c-4e71-a602-7822d6311544"
      },
      "source": [
        "print(\"test_loss {}\",\"test_accuracy {}\",(test_loss,test_accuracy))"
      ],
      "execution_count": 36,
      "outputs": [
        {
          "output_type": "stream",
          "text": [
            "test_loss {} test_accuracy {} (0.6222876552960381, 0.7336683)\n"
          ],
          "name": "stdout"
        }
      ]
    }
  ]
}